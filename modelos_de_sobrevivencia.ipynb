{
 "cells": [
  {
   "cell_type": "markdown",
   "id": "f8514f7e",
   "metadata": {},
   "source": [
    "# Previsão de Comportamento de Compra de Clientes em E-commerce"
   ]
  },
  {
   "cell_type": "markdown",
   "id": "5c57cba3",
   "metadata": {
    "vscode": {
     "languageId": "plaintext"
    }
   },
   "source": [
    "## Bibliotecas "
   ]
  },
  {
   "cell_type": "code",
   "execution_count": 32,
   "id": "10ab2337",
   "metadata": {},
   "outputs": [],
   "source": [
    "import pandas as pd\n",
    "import numpy as np\n",
    "\n",
    "import matplotlib.pyplot as plt\n",
    "import seaborn as sns"
   ]
  },
  {
   "cell_type": "markdown",
   "id": "dae732a2",
   "metadata": {},
   "source": [
    "## Dados"
   ]
  },
  {
   "cell_type": "markdown",
   "id": "0326a048",
   "metadata": {},
   "source": [
    "**Dicionário de Dados**: E-commerce Customer Behavior\n",
    "\n",
    "link: https://www.kaggle.com/datasets/shriyashjagtap/e-commerce-customer-for-behavior-analysis/data\n",
    "\n",
    "- _Customer ID_: Identificador numérico único para cada cliente.\n",
    "- _Purchase Date_: Data e hora exatas em que a transação de compra foi realizada.\n",
    "- _Product Category_: Categoria à qual o produto comprado pertence (ex: 'Electronics', 'Home', 'Clothing').\n",
    "- _Product Price_: O preço de uma única unidade do produto adquirido.\n",
    "- _Quantity_: O número de unidades do produto compradas nesta transação.\n",
    "- _Total Purchase_ Amount: O valor total da transação (valor do \"carrinho\" naquela compra).\n",
    "- _Payment Method_: O método de pagamento utilizado pelo cliente (ex: 'Credit Card', 'PayPal').\n",
    "- _Customer Age_: A idade do cliente. É uma coluna redundante, idêntica à coluna Age.\n",
    "- _Returns_: Indica se a compra foi devolvida (1) ou não (0). Possui valores faltantes.\n",
    "- _Customer Name_: O nome do cliente. É uma variável de identificação que geralmente é removida para a modelagem.\n",
    "- _Age_: A idade do cliente.\n",
    "- _Gender_: O gênero do cliente (ex: 'Male', 'Female').\n",
    "- _Churn_: Indica se o cliente abandonou a plataforma (1) ou não (0). Esta é a variável-alvo principal para o nosso modelo."
   ]
  },
  {
   "cell_type": "markdown",
   "id": "d9b82362",
   "metadata": {},
   "source": [
    "### Import"
   ]
  },
  {
   "cell_type": "markdown",
   "id": "1f2e6f82",
   "metadata": {},
   "source": [
    "Eu baixei o arquivo para minha maquina, mas poderiamos carregá-lo da seguinte forma:\n",
    "```{python}\n",
    "# importa a biblioteca do Kaggle\n",
    "import kagglehub\n",
    "\n",
    "# Download latest version\n",
    "path = kagglehub.dataset_download(\"shriyashjagtap/e-commerce-customer-for-behavior-analysis\")\n",
    "\n",
    "df = pd.read_csv(f'{path}/ecommerce_customer_data_custom_ratios.csv')\n",
    "df.head(2)\n",
    "\n",
    "```"
   ]
  },
  {
   "cell_type": "markdown",
   "id": "4b52cc6e",
   "metadata": {},
   "source": [
    "Vamos importar os dados que estão em nossa máquina."
   ]
  },
  {
   "cell_type": "code",
   "execution_count": null,
   "id": "06a5bf22",
   "metadata": {},
   "outputs": [
    {
     "data": {
      "text/html": [
       "<div>\n",
       "<style scoped>\n",
       "    .dataframe tbody tr th:only-of-type {\n",
       "        vertical-align: middle;\n",
       "    }\n",
       "\n",
       "    .dataframe tbody tr th {\n",
       "        vertical-align: top;\n",
       "    }\n",
       "\n",
       "    .dataframe thead th {\n",
       "        text-align: right;\n",
       "    }\n",
       "</style>\n",
       "<table border=\"1\" class=\"dataframe\">\n",
       "  <thead>\n",
       "    <tr style=\"text-align: right;\">\n",
       "      <th></th>\n",
       "      <th>Customer ID</th>\n",
       "      <th>Purchase Date</th>\n",
       "      <th>Product Category</th>\n",
       "      <th>Product Price</th>\n",
       "      <th>Quantity</th>\n",
       "      <th>Total Purchase Amount</th>\n",
       "      <th>Payment Method</th>\n",
       "      <th>Customer Age</th>\n",
       "      <th>Returns</th>\n",
       "      <th>Customer Name</th>\n",
       "      <th>Age</th>\n",
       "      <th>Gender</th>\n",
       "      <th>Churn</th>\n",
       "    </tr>\n",
       "  </thead>\n",
       "  <tbody>\n",
       "    <tr>\n",
       "      <th>0</th>\n",
       "      <td>46251</td>\n",
       "      <td>2020-09-08 09:38:32</td>\n",
       "      <td>Electronics</td>\n",
       "      <td>12</td>\n",
       "      <td>3</td>\n",
       "      <td>740</td>\n",
       "      <td>Credit Card</td>\n",
       "      <td>37</td>\n",
       "      <td>0.0</td>\n",
       "      <td>Christine Hernandez</td>\n",
       "      <td>37</td>\n",
       "      <td>Male</td>\n",
       "      <td>0</td>\n",
       "    </tr>\n",
       "    <tr>\n",
       "      <th>1</th>\n",
       "      <td>46251</td>\n",
       "      <td>2022-03-05 12:56:35</td>\n",
       "      <td>Home</td>\n",
       "      <td>468</td>\n",
       "      <td>4</td>\n",
       "      <td>2739</td>\n",
       "      <td>PayPal</td>\n",
       "      <td>37</td>\n",
       "      <td>0.0</td>\n",
       "      <td>Christine Hernandez</td>\n",
       "      <td>37</td>\n",
       "      <td>Male</td>\n",
       "      <td>0</td>\n",
       "    </tr>\n",
       "  </tbody>\n",
       "</table>\n",
       "</div>"
      ],
      "text/plain": [
       "   Customer ID        Purchase Date Product Category  Product Price  Quantity  \\\n",
       "0        46251  2020-09-08 09:38:32      Electronics             12         3   \n",
       "1        46251  2022-03-05 12:56:35             Home            468         4   \n",
       "\n",
       "   Total Purchase Amount Payment Method  Customer Age  Returns  \\\n",
       "0                    740    Credit Card            37      0.0   \n",
       "1                   2739         PayPal            37      0.0   \n",
       "\n",
       "         Customer Name  Age Gender  Churn  \n",
       "0  Christine Hernandez   37   Male      0  \n",
       "1  Christine Hernandez   37   Male      0  "
      ]
     },
     "execution_count": 22,
     "metadata": {},
     "output_type": "execute_result"
    }
   ],
   "source": [
    "df_customers = pd.read_csv('dados/ecommerce_customer_data_custom_ratios.csv')\n",
    "df_customers.head(2)"
   ]
  },
  {
   "cell_type": "code",
   "execution_count": 23,
   "id": "5cda76df",
   "metadata": {},
   "outputs": [
    {
     "name": "stdout",
     "output_type": "stream",
     "text": [
      "<class 'pandas.core.frame.DataFrame'>\n",
      "RangeIndex: 250000 entries, 0 to 249999\n",
      "Data columns (total 13 columns):\n",
      " #   Column                 Non-Null Count   Dtype  \n",
      "---  ------                 --------------   -----  \n",
      " 0   Customer ID            250000 non-null  int64  \n",
      " 1   Purchase Date          250000 non-null  object \n",
      " 2   Product Category       250000 non-null  object \n",
      " 3   Product Price          250000 non-null  int64  \n",
      " 4   Quantity               250000 non-null  int64  \n",
      " 5   Total Purchase Amount  250000 non-null  int64  \n",
      " 6   Payment Method         250000 non-null  object \n",
      " 7   Customer Age           250000 non-null  int64  \n",
      " 8   Returns                202404 non-null  float64\n",
      " 9   Customer Name          250000 non-null  object \n",
      " 10  Age                    250000 non-null  int64  \n",
      " 11  Gender                 250000 non-null  object \n",
      " 12  Churn                  250000 non-null  int64  \n",
      "dtypes: float64(1), int64(7), object(5)\n",
      "memory usage: 24.8+ MB\n"
     ]
    }
   ],
   "source": [
    "df_customers.info()"
   ]
  },
  {
   "cell_type": "markdown",
   "id": "7e7f1de3",
   "metadata": {},
   "source": [
    "## Manipulação de Dados\n",
    "\n",
    "- Podemos observar que a coluna _Customer Age_ e _Age_ são idênticas, o que indica redundância de dados. Podemos remover uma delas."
   ]
  },
  {
   "cell_type": "code",
   "execution_count": 24,
   "id": "6c7c976a",
   "metadata": {},
   "outputs": [
    {
     "data": {
      "text/plain": [
       "Index(['Customer ID', 'Purchase Date', 'Product Category', 'Product Price',\n",
       "       'Quantity', 'Total Purchase Amount', 'Payment Method', 'Returns',\n",
       "       'Customer Name', 'Age', 'Gender', 'Churn'],\n",
       "      dtype='object')"
      ]
     },
     "execution_count": 24,
     "metadata": {},
     "output_type": "execute_result"
    }
   ],
   "source": [
    "# Removendo a coluna 'Customer Age' pois é redundante com a coluna 'Age'\n",
    "df_cstm_clean =  df_customers.drop(columns=['Customer Age'])\n",
    "df_cstm_clean.columns"
   ]
  },
  {
   "cell_type": "markdown",
   "id": "710615e1",
   "metadata": {},
   "source": [
    "- Vamos converter a coluna 'Purchase Date' para o tipo datetime do pandas."
   ]
  },
  {
   "cell_type": "code",
   "execution_count": 29,
   "id": "e6b44ffe",
   "metadata": {},
   "outputs": [
    {
     "data": {
      "text/plain": [
       "0   2020-09-08 09:38:32\n",
       "1   2022-03-05 12:56:35\n",
       "Name: Purchase Date, dtype: datetime64[ns]"
      ]
     },
     "execution_count": 29,
     "metadata": {},
     "output_type": "execute_result"
    }
   ],
   "source": [
    "# Converter 'Purchase Date' para datetime\n",
    "df = df_cstm_clean.copy()\n",
    "df['Purchase Date'] = pd.to_datetime(df['Purchase Date'])\n",
    "df['Purchase Date'].head(2)"
   ]
  },
  {
   "cell_type": "markdown",
   "id": "86719325",
   "metadata": {},
   "source": [
    "- Vamos analisar valores ausentes, pois percebemos que a coluna _Returns_ tem alguns valores nulos."
   ]
  },
  {
   "cell_type": "code",
   "execution_count": 45,
   "id": "e5f7978f",
   "metadata": {},
   "outputs": [
    {
     "name": "stderr",
     "output_type": "stream",
     "text": [
      "C:\\Users\\joaomm\\AppData\\Local\\Temp\\ipykernel_25300\\3132961619.py:6: FutureWarning: \n",
      "\n",
      "Passing `palette` without assigning `hue` is deprecated and will be removed in v0.14.0. Assign the `x` variable to `hue` and set `legend=False` for the same effect.\n",
      "\n",
      "  sns.barplot(x=missing_percentage.index, y=missing_percentage.values, palette='viridis')\n"
     ]
    },
    {
     "data": {
      "image/png": "[encoded data removed]",
      "text/plain": [
       "<Figure size 800x200 with 1 Axes>"
      ]
     },
     "metadata": {},
     "output_type": "display_data"
    }
   ],
   "source": [
    "# Calcular a porcentagem de valores nulos por coluna\n",
    "missing_percentage = (df.isnull().sum() / len(df)) * 100\n",
    "\n",
    "# Criar o gráfico\n",
    "plt.figure(figsize=(8, 2))\n",
    "sns.barplot(x=missing_percentage.index, y=missing_percentage.values, palette='viridis')\n",
    "plt.title('Porcentagem de Valores Nulos por Coluna', fontsize=8)\n",
    "plt.xlabel('Colunas', fontsize=8)\n",
    "plt.ylabel('Porcentagem de Nulos (%)', fontsize=10)\n",
    "plt.xticks(rotation=45, size=6)\n",
    "plt.show()"
   ]
  },
  {
   "cell_type": "markdown",
   "id": "8fab58ce",
   "metadata": {},
   "source": [
    "O gráfico acima mostra que apenas a coluna Returns possui valores faltantes, correspondendo a quase 20% do total de registros"
   ]
  },
  {
   "cell_type": "markdown",
   "id": "d2cc5242",
   "metadata": {},
   "source": [
    "## Estatistica Descritiva"
   ]
  },
  {
   "cell_type": "code",
   "execution_count": 4,
   "id": "591986b3",
   "metadata": {},
   "outputs": [
    {
     "data": {
      "text/html": [
       "<div>\n",
       "<style scoped>\n",
       "    .dataframe tbody tr th:only-of-type {\n",
       "        vertical-align: middle;\n",
       "    }\n",
       "\n",
       "    .dataframe tbody tr th {\n",
       "        vertical-align: top;\n",
       "    }\n",
       "\n",
       "    .dataframe thead th {\n",
       "        text-align: right;\n",
       "    }\n",
       "</style>\n",
       "<table border=\"1\" class=\"dataframe\">\n",
       "  <thead>\n",
       "    <tr style=\"text-align: right;\">\n",
       "      <th></th>\n",
       "      <th>Customer ID</th>\n",
       "      <th>Product Price</th>\n",
       "      <th>Quantity</th>\n",
       "      <th>Total Purchase Amount</th>\n",
       "      <th>Customer Age</th>\n",
       "      <th>Returns</th>\n",
       "      <th>Age</th>\n",
       "      <th>Churn</th>\n",
       "    </tr>\n",
       "  </thead>\n",
       "  <tbody>\n",
       "    <tr>\n",
       "      <th>count</th>\n",
       "      <td>250000.00000</td>\n",
       "      <td>250000.000000</td>\n",
       "      <td>250000.000000</td>\n",
       "      <td>250000.000000</td>\n",
       "      <td>250000.000000</td>\n",
       "      <td>202404.000000</td>\n",
       "      <td>250000.000000</td>\n",
       "      <td>250000.000000</td>\n",
       "    </tr>\n",
       "    <tr>\n",
       "      <th>mean</th>\n",
       "      <td>25004.03624</td>\n",
       "      <td>254.659512</td>\n",
       "      <td>2.998896</td>\n",
       "      <td>2725.370732</td>\n",
       "      <td>43.940528</td>\n",
       "      <td>0.497861</td>\n",
       "      <td>43.940528</td>\n",
       "      <td>0.199496</td>\n",
       "    </tr>\n",
       "    <tr>\n",
       "      <th>std</th>\n",
       "      <td>14428.27959</td>\n",
       "      <td>141.568577</td>\n",
       "      <td>1.414694</td>\n",
       "      <td>1442.933565</td>\n",
       "      <td>15.350246</td>\n",
       "      <td>0.499997</td>\n",
       "      <td>15.350246</td>\n",
       "      <td>0.399622</td>\n",
       "    </tr>\n",
       "    <tr>\n",
       "      <th>min</th>\n",
       "      <td>1.00000</td>\n",
       "      <td>10.000000</td>\n",
       "      <td>1.000000</td>\n",
       "      <td>100.000000</td>\n",
       "      <td>18.000000</td>\n",
       "      <td>0.000000</td>\n",
       "      <td>18.000000</td>\n",
       "      <td>0.000000</td>\n",
       "    </tr>\n",
       "    <tr>\n",
       "      <th>25%</th>\n",
       "      <td>12497.75000</td>\n",
       "      <td>132.000000</td>\n",
       "      <td>2.000000</td>\n",
       "      <td>1477.000000</td>\n",
       "      <td>31.000000</td>\n",
       "      <td>0.000000</td>\n",
       "      <td>31.000000</td>\n",
       "      <td>0.000000</td>\n",
       "    </tr>\n",
       "    <tr>\n",
       "      <th>50%</th>\n",
       "      <td>25018.00000</td>\n",
       "      <td>255.000000</td>\n",
       "      <td>3.000000</td>\n",
       "      <td>2724.000000</td>\n",
       "      <td>44.000000</td>\n",
       "      <td>0.000000</td>\n",
       "      <td>44.000000</td>\n",
       "      <td>0.000000</td>\n",
       "    </tr>\n",
       "    <tr>\n",
       "      <th>75%</th>\n",
       "      <td>37506.00000</td>\n",
       "      <td>377.000000</td>\n",
       "      <td>4.000000</td>\n",
       "      <td>3974.000000</td>\n",
       "      <td>57.000000</td>\n",
       "      <td>1.000000</td>\n",
       "      <td>57.000000</td>\n",
       "      <td>0.000000</td>\n",
       "    </tr>\n",
       "    <tr>\n",
       "      <th>max</th>\n",
       "      <td>50000.00000</td>\n",
       "      <td>500.000000</td>\n",
       "      <td>5.000000</td>\n",
       "      <td>5350.000000</td>\n",
       "      <td>70.000000</td>\n",
       "      <td>1.000000</td>\n",
       "      <td>70.000000</td>\n",
       "      <td>1.000000</td>\n",
       "    </tr>\n",
       "  </tbody>\n",
       "</table>\n",
       "</div>"
      ],
      "text/plain": [
       "        Customer ID  Product Price       Quantity  Total Purchase Amount  \\\n",
       "count  250000.00000  250000.000000  250000.000000          250000.000000   \n",
       "mean    25004.03624     254.659512       2.998896            2725.370732   \n",
       "std     14428.27959     141.568577       1.414694            1442.933565   \n",
       "min         1.00000      10.000000       1.000000             100.000000   \n",
       "25%     12497.75000     132.000000       2.000000            1477.000000   \n",
       "50%     25018.00000     255.000000       3.000000            2724.000000   \n",
       "75%     37506.00000     377.000000       4.000000            3974.000000   \n",
       "max     50000.00000     500.000000       5.000000            5350.000000   \n",
       "\n",
       "        Customer Age        Returns            Age          Churn  \n",
       "count  250000.000000  202404.000000  250000.000000  250000.000000  \n",
       "mean       43.940528       0.497861      43.940528       0.199496  \n",
       "std        15.350246       0.499997      15.350246       0.399622  \n",
       "min        18.000000       0.000000      18.000000       0.000000  \n",
       "25%        31.000000       0.000000      31.000000       0.000000  \n",
       "50%        44.000000       0.000000      44.000000       0.000000  \n",
       "75%        57.000000       1.000000      57.000000       0.000000  \n",
       "max        70.000000       1.000000      70.000000       1.000000  "
      ]
     },
     "execution_count": 4,
     "metadata": {},
     "output_type": "execute_result"
    }
   ],
   "source": [
    "df_customers.describe()"
   ]
  },
  {
   "cell_type": "markdown",
   "id": "1ee46984",
   "metadata": {},
   "source": [
    "Pontos a destacar\n",
    "\n",
    "- **Volume de Transações**: O conjunto de dados contém 250.000 observações, representando o total de transações de compra registradas.\n",
    "\n",
    "- **Dados Faltantes**: Há um ponto de atenção na coluna Returns, que possui apenas 202.404 registros preenchidos(~81%). Isso indica que aproximadamente 19% das entradas para esta variável estão ausentes e precisarão de tratamento.\n",
    "\n",
    "- **Base de Clientes**: Os Customer ID variam de 1 a 50.000, sugerindo que o dataset acompanha a atividade de 50.000 clientes únicos. Com 250.000 compras, isso resulta em uma média de 5 compras por cliente.\n",
    "\n",
    "- **Faixa Etária**: A idade dos clientes (Age) varia de 18 a 70 anos. A média e a mediana são muito próximas, em torno de 44 anos, indicando que o público principal é de meia-idade, sem uma distorção significativa por clientes muito jovens ou muito idosos.\n",
    "\n",
    "- **Redundância de Dados**: As colunas _Customer Age_ e _Age_ são estatisticamente idênticas, confirmando que uma delas pode ser removida no processo de limpeza.\n",
    "\n",
    "- **Preço dos Produto (Product Price)**: Os preços dos itens individuais variam de $10 a $500. A média de $254.66 é quase idêntica à mediana de $255, o que sugere uma distribuição de preços bem equilibrada, sem valores extremos (outliers) influenciando a média.\n",
    "\n",
    "- **Quantidade por Compra (Quantity)**: Os clientes compram entre 1 e 5 itens por transação. A maioria das compras (mediana) inclui 3 itens.\n",
    "\n",
    "- **Valor Total da Compra (Total Purchase Amount)**: O valor gasto por transação vai de $100 a $5.350. Novamente, a média ($2725) e a mediana ($2724) são praticamente iguais, mostrando uma distribuição simétrica dos valores de compra.\n",
    "\n",
    "- **Taxa de Devolução (Returns)**: Esta é uma variável binária (0 ou 1). A média de 0.497 indica que, dos registros preenchidos, cerca de 49.8% das compras resultaram em uma devolução. É uma taxa bastante elevada e um fator potencialmente importante.\n",
    "\n",
    "- **Taxa de Abandono (Churn)**: Também uma variável binária. A média de 0.199 nos informa que aproximadamente 20% das transações no dataset pertencem a clientes que foram classificados como \"churned\" (que abandonaram a plataforma). Este será o nosso principal evento de interesse negativo na análise de sobrevivência."
   ]
  },
  {
   "cell_type": "code",
   "execution_count": null,
   "id": "7d5f2793",
   "metadata": {},
   "outputs": [],
   "source": []
  }
 ],
 "metadata": {
  "kernelspec": {
   "display_name": "est-aplicada",
   "language": "python",
   "name": "python3"
  },
  "language_info": {
   "codemirror_mode": {
    "name": "ipython",
    "version": 3
   },
   "file_extension": ".py",
   "mimetype": "text/x-python",
   "name": "python",
   "nbconvert_exporter": "python",
   "pygments_lexer": "ipython3",
   "version": "3.11.13"
  }
 },
 "nbformat": 4,
 "nbformat_minor": 5
}
